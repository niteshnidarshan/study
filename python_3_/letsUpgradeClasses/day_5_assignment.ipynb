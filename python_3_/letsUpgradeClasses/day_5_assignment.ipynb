{
 "cells": [
  {
   "cell_type": "raw",
   "metadata": {},
   "source": [
    "Q1.\n",
    "You have seen how powerful dictionary data structure is.\n",
    "In this assignment, given a number n, you have to write a program that generates a dictionary\n",
    "d which contains (i,i*i), where i is from 1 to n (both included).\n",
    "Then you have to just print this dictionary d.\n",
    "Example:\n",
    "Input: 4\n",
    "will give output as\n",
    "{1: 1, 2: 4, 3: 9, 4: 16}\n",
    "Input Format:\n",
    "Take the number n in a single line.\n",
    "Output Format:\n",
    "Print the dictionary d in a single line.\n",
    "Example:\n",
    "Input:\n",
    "8\n",
    "Output:\n",
    "{1: 1, 2: 4, 3: 9, 4: 16, 5: 25, 6: 36, 7: 49, 8: 64}\n",
    "Explanation:\n",
    "Here n is 8, we will start from i=1, hence the first element of the dictionary is (1: 1), as i\n",
    "becomes 2, the second element of the dictionary becomes (2: 4) and so on.\n",
    "Hence the output will be {1: 1, 2: 4, 3: 9, 4: 16, 5: 25, 6: 36, 7: 49, 8: 64}.\n",
    "\n",
    "\n",
    "Question_2 : \n",
    "You have also seen how list slicing is performed in python.\n",
    "In this program, create a list of numbers from 1 to 50 named list_1. The numbers should\n",
    "be present in the increasing order: Ex list_1 = [1,2,3,4,5,....,50]\n",
    "i.e. index zero should be 1, index one should be 2, index two should be 3 and so on.\n",
    "Given an input of two numbers, let's say a and b, you have to print the numbers returned\n",
    "by the following command\n",
    "list_1[a:b]\n",
    "Input:\n",
    "The first line of input contains two numbers a and b separated by a space.\n",
    "NOTE: You can take two inputs in a single line using the following command:\n",
    "a, b = input().split()\n",
    "Make sure you convert the strings in a and b into integers using the int() command\n",
    "Output:\n",
    "Print the numbers in new line\n",
    "Example:\n",
    "Input:\n",
    "2 6\n",
    "Output:\n",
    "3\n",
    "4\n",
    "5\n",
    "6\n",
    "Explanation: In this example, a is 2 and b is 6. The list_1 contains numbers from 1 to 50.\n",
    "When you perform the operation list_1[a:b] which in this case is, list_1[2:6], it returns a\n",
    "list of following numbers [3, 4, 5, 6]. Print the elements of this list with each element in a\n",
    "new line."
   ]
  },
  {
   "cell_type": "code",
   "execution_count": 1,
   "metadata": {},
   "outputs": [],
   "source": [
    "# Solution_1 :"
   ]
  },
  {
   "cell_type": "code",
   "execution_count": 8,
   "metadata": {},
   "outputs": [
    {
     "name": "stdout",
     "output_type": "stream",
     "text": [
      "Enter the number to generate square dictionary : 9\n",
      "{1: 1, 2: 4, 3: 9, 4: 16, 5: 25, 6: 36, 7: 49, 8: 64, 9: 81}\n"
     ]
    }
   ],
   "source": [
    "dictTillNumber = int(input(\"Enter the number to generate square dictionary : \"))\n",
    "dictionaryOfSquare = {}\n",
    "for i in range(dictTillNumber):\n",
    "    dictionaryOfSquare.update({(i+1):((i+1)*(i+1))})\n",
    "print(dictionaryOfSquare)"
   ]
  },
  {
   "cell_type": "code",
   "execution_count": 9,
   "metadata": {},
   "outputs": [],
   "source": [
    "#Solution_2 :"
   ]
  },
  {
   "cell_type": "code",
   "execution_count": 15,
   "metadata": {},
   "outputs": [
    {
     "name": "stdout",
     "output_type": "stream",
     "text": [
      "Enter the range seperated by a single space : 2 6\n",
      "3\n",
      "4\n",
      "5\n",
      "6\n"
     ]
    }
   ],
   "source": [
    "list_1 = []\n",
    "for i in range(50):\n",
    "    list_1.append(i+1)\n",
    "userRange = input(\"Enter the range seperated by a single space : \")\n",
    "start, end = userRange.split(\" \")\n",
    "for i in range(int(start), int(end)):\n",
    "    print(list_1[i])"
   ]
  },
  {
   "cell_type": "code",
   "execution_count": null,
   "metadata": {},
   "outputs": [],
   "source": [
    "print('x')"
   ]
  },
  {
   "cell_type": "code",
   "execution_count": null,
   "metadata": {},
   "outputs": [],
   "source": []
  }
 ],
 "metadata": {
  "kernelspec": {
   "display_name": "Python 3",
   "language": "python",
   "name": "python3"
  },
  "language_info": {
   "codemirror_mode": {
    "name": "ipython",
    "version": 3
   },
   "file_extension": ".py",
   "mimetype": "text/x-python",
   "name": "python",
   "nbconvert_exporter": "python",
   "pygments_lexer": "ipython3",
   "version": "3.7.6"
  }
 },
 "nbformat": 4,
 "nbformat_minor": 4
}
