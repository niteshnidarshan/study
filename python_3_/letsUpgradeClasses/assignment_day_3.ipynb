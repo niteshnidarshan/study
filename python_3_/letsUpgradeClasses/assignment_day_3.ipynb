{
 "cells": [
  {
   "cell_type": "raw",
   "metadata": {},
   "source": [
    "Question 1 : Write a program for taking a number as input & then using if elif else concept, assign a grade to the input number from\n",
    "\tA,B,C,D,E, Fail\n",
    "\t\n",
    "\te.g. \tinput : 97\n",
    "\t\toutput: A"
   ]
  },
  {
   "cell_type": "code",
   "execution_count": 64,
   "metadata": {},
   "outputs": [
    {
     "name": "stdout",
     "output_type": "stream",
     "text": [
      "Enter yor marks in between 1 to 100 : 99\n",
      "A\n"
     ]
    }
   ],
   "source": [
    "userInput = input(\"Enter yor marks in between 1 to 100 : \") #To accept marks from user\n",
    "int_userInput = int(userInput)\n",
    "\n",
    "if int_userInput<1 or int_userInput>100: #Condition check of between 1 to 100\n",
    "    print(\"Invalid marks!\")\n",
    "else:\n",
    "    if int_userInput<30:\n",
    "        print('Fail')\n",
    "    elif int_userInput>=30 and int_userInput<40:\n",
    "        print('E')\n",
    "    elif int_userInput>=40 and int_userInput<50:\n",
    "        print('D')\n",
    "    elif int_userInput>=50 and int_userInput<60:\n",
    "        print('C')\n",
    "    elif int_userInput>=60 and int_userInput<75:\n",
    "        print('B')\n",
    "    else:\n",
    "        print('A')\n",
    "\n",
    "\n"
   ]
  },
  {
   "cell_type": "raw",
   "metadata": {},
   "source": [
    "Question 2 : Guessing team India score in 20-20 cricket -\n",
    "\tWrite a program that give you random score of Team India in a cricket match,\n",
    "\tand a player has to guess the score given by computer in between 1 to 250.\n",
    "\tThe rules are : \n",
    "\n",
    "\t\t1) If a player guess is less than 1 or greater than 250, \n",
    "\t\t\tsay \"Reduce your expectation for 20-20 cricket\"\n",
    "\t\t2) On a player's input, if their score guess is \n",
    "\t\t\t- within 10 of the number, return \"Close By, you are True Indian Fan!\"\n",
    "\t\t\t- further than 10 away from the number, return \"You don't watch that much! :P\""
   ]
  },
  {
   "cell_type": "code",
   "execution_count": 51,
   "metadata": {},
   "outputs": [
    {
     "name": "stdout",
     "output_type": "stream",
     "text": [
      "Guess the score : 34\n",
      "Close By, you are True Indian Fan!\n"
     ]
    }
   ],
   "source": [
    "import random\n",
    "\n",
    "playerInput = input(\"Guess the score : \") #To accept guess number from player\n",
    "\n",
    "int_playerInput = int(playerInput) #Typecasting to int\n",
    "\n",
    "if int_playerInput<1 or int_playerInput>250: #Condition check of between 1 to 250\n",
    "    print(\"Reduce your expectation for 20-20 cricket\")\n",
    "else:\n",
    "    computerGuess = random.randrange(1,250) #Generating random number from the range 1 to 250\n",
    "    \n",
    "    #print(\"Computer guess = \",computerGuess,\"  |  Your guess = \",int_playerInput)\n",
    "    if(computerGuess in range(int_playerInput-10, int_playerInput+10)):\n",
    "        print(\"Close By, you are True Indian Fan!\")\n",
    "    else:\n",
    "        print(\"You don't watch that much! :P\")"
   ]
  },
  {
   "cell_type": "code",
   "execution_count": null,
   "metadata": {},
   "outputs": [],
   "source": []
  },
  {
   "cell_type": "code",
   "execution_count": null,
   "metadata": {},
   "outputs": [],
   "source": []
  },
  {
   "cell_type": "code",
   "execution_count": null,
   "metadata": {},
   "outputs": [],
   "source": []
  },
  {
   "cell_type": "code",
   "execution_count": null,
   "metadata": {},
   "outputs": [],
   "source": []
  }
 ],
 "metadata": {
  "kernelspec": {
   "display_name": "Python 3",
   "language": "python",
   "name": "python3"
  },
  "language_info": {
   "codemirror_mode": {
    "name": "ipython",
    "version": 3
   },
   "file_extension": ".py",
   "mimetype": "text/x-python",
   "name": "python",
   "nbconvert_exporter": "python",
   "pygments_lexer": "ipython3",
   "version": "3.7.6"
  }
 },
 "nbformat": 4,
 "nbformat_minor": 4
}
