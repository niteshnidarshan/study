{
 "cells": [
  {
   "cell_type": "markdown",
   "metadata": {},
   "source": [
    "# python classes & objects"
   ]
  },
  {
   "cell_type": "code",
   "execution_count": 5,
   "metadata": {},
   "outputs": [
    {
     "name": "stdout",
     "output_type": "stream",
     "text": [
      "Hello World\n",
      "<__main__.IIT object at 0x10c0030d0>\n"
     ]
    }
   ],
   "source": [
    "class IIT:\n",
    "    def show(self):\n",
    "        print(\"Hello World\")\n",
    "        print(self)\n",
    "              \n",
    "s1 = IIT()\n",
    "s1.show()"
   ]
  },
  {
   "cell_type": "code",
   "execution_count": 6,
   "metadata": {},
   "outputs": [
    {
     "name": "stdout",
     "output_type": "stream",
     "text": [
      "n= 3\n",
      "n1= 4\n"
     ]
    }
   ],
   "source": [
    "class xyz:\n",
    "    def abc(self,n):\n",
    "        n1=n+1\n",
    "        print(\"n=\",n)\n",
    "        print(\"n1=\",n1)\n",
    "o = xyz()\n",
    "o.abc(3)"
   ]
  },
  {
   "cell_type": "code",
   "execution_count": 8,
   "metadata": {},
   "outputs": [
    {
     "name": "stdout",
     "output_type": "stream",
     "text": [
      "n= 3\n",
      "n= 3\n"
     ]
    }
   ],
   "source": [
    "class xyz:\n",
    "    def abc(self,n):\n",
    "        n=n\n",
    "        print(\"n=\",n)\n",
    "        print(\"n=\",n)# confusion - which n?\n",
    "o = xyz()\n",
    "o.abc(3)"
   ]
  },
  {
   "cell_type": "code",
   "execution_count": 9,
   "metadata": {},
   "outputs": [
    {
     "name": "stdout",
     "output_type": "stream",
     "text": [
      "n= 3\n",
      "self.n= 3\n",
      "n= 3\n",
      "self.n= 4\n"
     ]
    }
   ],
   "source": [
    "class xyz:\n",
    "    def abc(self,n):\n",
    "        self.n=n\n",
    "        print(\"n=\",n)\n",
    "        print(\"self.n=\",self.n)\n",
    "        \n",
    "        self.n = n+1\n",
    "        \n",
    "        print(\"n=\",n)\n",
    "        print(\"self.n=\",self.n)\n",
    "        \n",
    "o = xyz()\n",
    "o.abc(3)\n",
    "\n",
    "#If you want to use same variable name, then need 'self'.\n",
    "#self is the first argument: medatory "
   ]
  },
  {
   "cell_type": "markdown",
   "metadata": {},
   "source": [
    "# Instance as arguments \n",
    "\n",
    "> Constructor\n",
    "\n",
    "> The class instance variables are always prefixed with reserved word 'self' & typically initialized in a constructor method named init\n",
    "\n",
    "> 1) Name of the constructor is always \"__init__\" & will be the first statemnet of the class\n",
    "\n",
    "> 2) It is used for initialization\n",
    "\n",
    "> 3) It is called automacally when object is created"
   ]
  },
  {
   "cell_type": "code",
   "execution_count": 11,
   "metadata": {},
   "outputs": [
    {
     "name": "stdout",
     "output_type": "stream",
     "text": [
      "5\n",
      "6\n",
      "30\n",
      "Hello World!\n"
     ]
    }
   ],
   "source": [
    "class xyz:\n",
    "    def __init__(self,n):\n",
    "        self.n1 = n+1\n",
    "        print(n)\n",
    "        print(self.n1)\n",
    "        print(self.n1*n)\n",
    "    def mno(self):\n",
    "        print(\"Hello World!\")\n",
    "s=xyz(5)\n",
    "s.mno()"
   ]
  },
  {
   "cell_type": "code",
   "execution_count": 12,
   "metadata": {},
   "outputs": [
    {
     "name": "stdout",
     "output_type": "stream",
     "text": [
      "I m initializing u!\n",
      "Hello World!\n"
     ]
    }
   ],
   "source": [
    "class xyz:\n",
    "    def __init__(self):\n",
    "        print(\"I m initializing u!\")\n",
    "    def mno(self):\n",
    "        print(\"Hello World!\")\n",
    "        \n",
    "s=xyz()\n",
    "s.mno()"
   ]
  },
  {
   "cell_type": "code",
   "execution_count": 16,
   "metadata": {},
   "outputs": [
    {
     "name": "stdout",
     "output_type": "stream",
     "text": [
      "constructor_4\n"
     ]
    }
   ],
   "source": [
    "# If more than one constructors found, only the last one is called\n",
    "# Python does not support constructor overloading\n",
    "class xyz:\n",
    "    def __init__(self):\n",
    "        print(\"constructor_1\")\n",
    "    def __init__(self):\n",
    "        print(\"constructor_2\")\n",
    "    def __init__(self,n):\n",
    "        print(\"constructor_3\")\n",
    "    def __init__(self,a,b):\n",
    "        print(\"constructor_4\")\n",
    "    def mno(self):\n",
    "        print(\"Hello World!\")\n",
    "        \n",
    "s=xyz(3,4)\n"
   ]
  },
  {
   "cell_type": "markdown",
   "metadata": {},
   "source": [
    "# Instance a return value\n",
    "\n",
    "> In python, methods & functions can return class instance\n"
   ]
  },
  {
   "cell_type": "code",
   "execution_count": 18,
   "metadata": {},
   "outputs": [
    {
     "data": {
      "text/plain": [
       "7"
      ]
     },
     "execution_count": 18,
     "metadata": {},
     "output_type": "execute_result"
    }
   ],
   "source": [
    "class st:\n",
    "    def add(self,a,b):\n",
    "        self.a=a\n",
    "        self.b=b\n",
    "        return self.a+self.b\n",
    "s=st()\n",
    "s.add(4,3)"
   ]
  },
  {
   "cell_type": "code",
   "execution_count": 21,
   "metadata": {},
   "outputs": [
    {
     "name": "stdout",
     "output_type": "stream",
     "text": [
      "4\n",
      "3\n"
     ]
    }
   ],
   "source": [
    "class st:\n",
    "    def __init__(self,a,b):\n",
    "        self.a=a\n",
    "        self.b=b\n",
    "s=st(4,3)\n",
    "print(s.a)\n",
    "print(s.b)"
   ]
  },
  {
   "cell_type": "markdown",
   "metadata": {},
   "source": [
    "# Distructor - del()\n",
    "\n",
    "> It is used when you want to destroy an instance of the class which is no longer referenced."
   ]
  },
  {
   "cell_type": "code",
   "execution_count": 24,
   "metadata": {},
   "outputs": [
    {
     "name": "stdout",
     "output_type": "stream",
     "text": [
      "hello Darshan\n",
      "Object deleted!\n",
      "hello Python\n",
      "Object deleted!\n",
      "hello 1\n",
      "Object deleted!\n"
     ]
    }
   ],
   "source": [
    "# Program to delete object of a class\n",
    "class abc:\n",
    "    def __init__(self,n):\n",
    "        print(\"hello\",n)\n",
    "    def __del__(self):\n",
    "        print(\"Object deleted!\")\n",
    "s1=abc(\"Darshan\")\n",
    "s2=abc(\"Python\")\n",
    "s3=abc(1)"
   ]
  },
  {
   "cell_type": "code",
   "execution_count": 27,
   "metadata": {},
   "outputs": [
    {
     "name": "stdout",
     "output_type": "stream",
     "text": [
      "Base class here!\n",
      "Base class here!\n",
      "Derived class here!\n"
     ]
    }
   ],
   "source": [
    "# Prgram to use single inheritance\n",
    "class abc:\n",
    "    def s1(self):\n",
    "        print(\"Base class here!\")\n",
    "\n",
    "class xyz(abc):      #Extending xyz with abc\n",
    "    def s2(self):\n",
    "        print(\"Derived class here!\")     \n",
    "\n",
    "o=abc()\n",
    "o.s1()\n",
    "#o.s2() #Will throw error because base claas can't access derrived class\n",
    "        \n",
    "#Always create the object of lower most class\n",
    "obj=xyz()\n",
    "obj.s1()\n",
    "obj.s2()"
   ]
  },
  {
   "cell_type": "code",
   "execution_count": 29,
   "metadata": {},
   "outputs": [
    {
     "name": "stdout",
     "output_type": "stream",
     "text": [
      "num1= 7\n",
      "num2= 9\n",
      "16\n"
     ]
    }
   ],
   "source": [
    "# Multiple inheritance \n",
    "# Base1, Base2 --> Derived\n",
    "\n",
    "class st1:\n",
    "    def num1(self):\n",
    "        self.n1=7\n",
    "        print(\"num1=\",self.n1)\n",
    "\n",
    "class st2:\n",
    "    def num2(self):\n",
    "        self.n2=9\n",
    "        print(\"num2=\",self.n2)\n",
    "        \n",
    "class st(st1, st2):\n",
    "    def add(self):\n",
    "        return self.n1+self.n2\n",
    "    \n",
    "s=st()\n",
    "s.num1()\n",
    "s.num2()\n",
    "print(s.add())"
   ]
  },
  {
   "cell_type": "markdown",
   "metadata": {},
   "source": [
    "# Method Overriding"
   ]
  },
  {
   "cell_type": "code",
   "execution_count": 32,
   "metadata": {},
   "outputs": [
    {
     "name": "stdout",
     "output_type": "stream",
     "text": [
      "Derrived class called! \n"
     ]
    }
   ],
   "source": [
    "# Program to use Method Overriding\n",
    "\n",
    "class T:\n",
    "    def show(self):\n",
    "        print(\"Base class called! \")\n",
    "        \n",
    "class S(T):\n",
    "    def show(self):\n",
    "        print(\"Derrived class called! \")\n",
    "        \n",
    "v=S()\n",
    "v.show() # Acts like over-write"
   ]
  },
  {
   "cell_type": "markdown",
   "metadata": {},
   "source": [
    "# Generator"
   ]
  },
  {
   "cell_type": "code",
   "execution_count": 50,
   "metadata": {},
   "outputs": [],
   "source": [
    "# Generators are functions that return traversable object\n",
    "\n",
    "# Will use 'yield' - If the body of the function contains 'yield', the method becoms generator method\n",
    "# __next__()\n",
    "\n",
    "# Generator function\n",
    "# Generator object\n",
    "\n"
   ]
  },
  {
   "cell_type": "code",
   "execution_count": 36,
   "metadata": {},
   "outputs": [
    {
     "name": "stdout",
     "output_type": "stream",
     "text": [
      "<generator object abc at 0x10b781b50>\n",
      "1\n",
      "2\n",
      "34\n"
     ]
    }
   ],
   "source": [
    "# Generator-function\n",
    "\n",
    "def abc():\n",
    "    yield 1\n",
    "    yield 2\n",
    "    yield 34\n",
    "\n",
    "print(abc())\n",
    "    \n",
    "for i in abc():\n",
    "    print(i)"
   ]
  },
  {
   "cell_type": "code",
   "execution_count": 37,
   "metadata": {},
   "outputs": [
    {
     "name": "stdout",
     "output_type": "stream",
     "text": [
      "1\n"
     ]
    }
   ],
   "source": [
    "# Generator object\n",
    "\n",
    "def abc():\n",
    "    yield 1\n",
    "    yield 2\n",
    "    yield 34\n",
    "    \n",
    "x=abc() # x is a generator object\n",
    "\n",
    "print(x.__next__())\n"
   ]
  },
  {
   "cell_type": "code",
   "execution_count": 38,
   "metadata": {},
   "outputs": [
    {
     "name": "stdout",
     "output_type": "stream",
     "text": [
      "2\n"
     ]
    }
   ],
   "source": [
    "print(x.__next__())"
   ]
  },
  {
   "cell_type": "code",
   "execution_count": 39,
   "metadata": {},
   "outputs": [
    {
     "name": "stdout",
     "output_type": "stream",
     "text": [
      "34\n"
     ]
    }
   ],
   "source": [
    "print(x.__next__())"
   ]
  },
  {
   "cell_type": "code",
   "execution_count": 40,
   "metadata": {},
   "outputs": [
    {
     "ename": "StopIteration",
     "evalue": "",
     "output_type": "error",
     "traceback": [
      "\u001b[0;31m---------------------------------------------------------------------------\u001b[0m",
      "\u001b[0;31mStopIteration\u001b[0m                             Traceback (most recent call last)",
      "\u001b[0;32m<ipython-input-40-c15fe6e1370e>\u001b[0m in \u001b[0;36m<module>\u001b[0;34m\u001b[0m\n\u001b[0;32m----> 1\u001b[0;31m \u001b[0mprint\u001b[0m\u001b[0;34m(\u001b[0m\u001b[0mx\u001b[0m\u001b[0;34m.\u001b[0m\u001b[0m__next__\u001b[0m\u001b[0;34m(\u001b[0m\u001b[0;34m)\u001b[0m\u001b[0;34m)\u001b[0m\u001b[0;34m\u001b[0m\u001b[0;34m\u001b[0m\u001b[0m\n\u001b[0m",
      "\u001b[0;31mStopIteration\u001b[0m: "
     ]
    }
   ],
   "source": [
    "print(x.__next__())"
   ]
  },
  {
   "cell_type": "code",
   "execution_count": 41,
   "metadata": {},
   "outputs": [
    {
     "data": {
      "text/plain": [
       "<generator object abc at 0x10b781b50>"
      ]
     },
     "execution_count": 41,
     "metadata": {},
     "output_type": "execute_result"
    }
   ],
   "source": [
    "x"
   ]
  },
  {
   "cell_type": "code",
   "execution_count": 45,
   "metadata": {},
   "outputs": [
    {
     "name": "stdout",
     "output_type": "stream",
     "text": [
      "<generator object xyz at 0x10e71ef50>\n",
      "(1, \"let's\")\n"
     ]
    }
   ],
   "source": [
    "def xyz(d):\n",
    "    for x in d.items():\n",
    "        yield x\n",
    "        \n",
    "dict = {1:\"let's\", 2:\"Upgrade!\"}\n",
    "\n",
    "b= xyz(dict)\n",
    "\n",
    "print(b)\n",
    "\n",
    "print(b.__next__())"
   ]
  },
  {
   "cell_type": "code",
   "execution_count": 46,
   "metadata": {},
   "outputs": [
    {
     "name": "stdout",
     "output_type": "stream",
     "text": [
      "(2, 'Upgrade!')\n"
     ]
    }
   ],
   "source": [
    "print(b.__next__())"
   ]
  },
  {
   "cell_type": "code",
   "execution_count": 48,
   "metadata": {},
   "outputs": [
    {
     "ename": "StopIteration",
     "evalue": "",
     "output_type": "error",
     "traceback": [
      "\u001b[0;31m---------------------------------------------------------------------------\u001b[0m",
      "\u001b[0;31mStopIteration\u001b[0m                             Traceback (most recent call last)",
      "\u001b[0;32m<ipython-input-48-cb2e1653435a>\u001b[0m in \u001b[0;36m<module>\u001b[0;34m\u001b[0m\n\u001b[0;32m----> 1\u001b[0;31m \u001b[0mprint\u001b[0m\u001b[0;34m(\u001b[0m\u001b[0mb\u001b[0m\u001b[0;34m.\u001b[0m\u001b[0m__next__\u001b[0m\u001b[0;34m(\u001b[0m\u001b[0;34m)\u001b[0m\u001b[0;34m)\u001b[0m\u001b[0;34m\u001b[0m\u001b[0;34m\u001b[0m\u001b[0m\n\u001b[0m",
      "\u001b[0;31mStopIteration\u001b[0m: "
     ]
    }
   ],
   "source": [
    "print(b.__next__())"
   ]
  },
  {
   "cell_type": "markdown",
   "metadata": {},
   "source": [
    "# Decorators"
   ]
  },
  {
   "cell_type": "code",
   "execution_count": 53,
   "metadata": {},
   "outputs": [
    {
     "name": "stdout",
     "output_type": "stream",
     "text": [
      "3\n"
     ]
    }
   ],
   "source": [
    "# Nested function\n",
    "\n",
    "def outer():\n",
    "    x=3\n",
    "    def inner(): # control Skips \n",
    "        print(x)\n",
    "    inner() # will call inner()\n",
    "\n",
    "outer()\n",
    "#inner is only accessible inside outer scope"
   ]
  },
  {
   "cell_type": "code",
   "execution_count": 61,
   "metadata": {},
   "outputs": [
    {
     "name": "stdout",
     "output_type": "stream",
     "text": [
      "Hello\n"
     ]
    },
    {
     "data": {
      "text/plain": [
       "function"
      ]
     },
     "execution_count": 61,
     "metadata": {},
     "output_type": "execute_result"
    }
   ],
   "source": [
    "# Functions are First class objects.\n",
    "def abc():\n",
    "    print(\"Hello\")\n",
    "\n",
    "abc()\n",
    "type(abc)\n"
   ]
  },
  {
   "cell_type": "code",
   "execution_count": 58,
   "metadata": {},
   "outputs": [
    {
     "data": {
      "text/plain": [
       "<function __main__.abc()>"
      ]
     },
     "execution_count": 58,
     "metadata": {},
     "output_type": "execute_result"
    }
   ],
   "source": [
    "abc"
   ]
  },
  {
   "cell_type": "code",
   "execution_count": 59,
   "metadata": {},
   "outputs": [],
   "source": [
    "g=abc"
   ]
  },
  {
   "cell_type": "code",
   "execution_count": 60,
   "metadata": {},
   "outputs": [
    {
     "data": {
      "text/plain": [
       "<function __main__.abc()>"
      ]
     },
     "execution_count": 60,
     "metadata": {},
     "output_type": "execute_result"
    }
   ],
   "source": [
    "g"
   ]
  },
  {
   "cell_type": "code",
   "execution_count": 62,
   "metadata": {},
   "outputs": [
    {
     "name": "stdout",
     "output_type": "stream",
     "text": [
      "Hello\n"
     ]
    }
   ],
   "source": [
    "g()"
   ]
  },
  {
   "cell_type": "code",
   "execution_count": 63,
   "metadata": {},
   "outputs": [],
   "source": [
    "# So, functions is treated like a variable\n"
   ]
  },
  {
   "cell_type": "code",
   "execution_count": 64,
   "metadata": {},
   "outputs": [
    {
     "name": "stdout",
     "output_type": "stream",
     "text": [
      "6\n"
     ]
    }
   ],
   "source": [
    "# value returnin function\n",
    "\n",
    "def outer():\n",
    "    x=3\n",
    "    def inner():\n",
    "        y=3\n",
    "        result = x+y\n",
    "        return result\n",
    "    return inner()\n",
    "\n",
    "a= outer()\n",
    "print(a)"
   ]
  },
  {
   "cell_type": "code",
   "execution_count": 65,
   "metadata": {},
   "outputs": [
    {
     "name": "stdout",
     "output_type": "stream",
     "text": [
      "<function outer.<locals>.inner at 0x10e6ed440>\n"
     ]
    }
   ],
   "source": [
    "def outer():\n",
    "    x=3\n",
    "    def inner():\n",
    "        y=3\n",
    "        result = x+y\n",
    "        return result\n",
    "    return inner # Note the change - returning object - and this line will not call inner() & inner() will not be executed\n",
    "\n",
    "a= outer()\n",
    "print(a)"
   ]
  },
  {
   "cell_type": "code",
   "execution_count": 66,
   "metadata": {},
   "outputs": [
    {
     "data": {
      "text/plain": [
       "6"
      ]
     },
     "execution_count": 66,
     "metadata": {},
     "output_type": "execute_result"
    }
   ],
   "source": [
    "a()"
   ]
  },
  {
   "cell_type": "code",
   "execution_count": 67,
   "metadata": {},
   "outputs": [
    {
     "data": {
      "text/plain": [
       "'inner'"
      ]
     },
     "execution_count": 67,
     "metadata": {},
     "output_type": "execute_result"
    }
   ],
   "source": [
    "a.__name__"
   ]
  },
  {
   "cell_type": "code",
   "execution_count": 71,
   "metadata": {},
   "outputs": [
    {
     "data": {
      "text/plain": [
       "6"
      ]
     },
     "execution_count": 71,
     "metadata": {},
     "output_type": "execute_result"
    }
   ],
   "source": [
    "# This concept is also called closure\n",
    "# Clouser supports data hiding\n",
    "\n",
    "def outer():\n",
    "    x=3\n",
    "    def inner():\n",
    "        y=3\n",
    "        result = x+y\n",
    "        return result\n",
    "    return inner # Note the change - returning object - and this line will not call inner() & inner() will not be executed\n",
    "\n",
    "a= outer()\n",
    "a()"
   ]
  },
  {
   "cell_type": "code",
   "execution_count": 70,
   "metadata": {},
   "outputs": [
    {
     "name": "stdout",
     "output_type": "stream",
     "text": [
      "hello!\n"
     ]
    }
   ],
   "source": [
    "def outer():\n",
    "    msg=\"hello!\"\n",
    "    def inner():\n",
    "        print(msg)\n",
    "    return inner\n",
    "\n",
    "a= outer()\n",
    "a()"
   ]
  },
  {
   "cell_type": "code",
   "execution_count": 73,
   "metadata": {},
   "outputs": [
    {
     "name": "stdout",
     "output_type": "stream",
     "text": [
      "Function_2\n",
      "Function_1\n"
     ]
    }
   ],
   "source": [
    "# Functions as Parameters\n",
    "def function1():\n",
    "    print(\"Function_1\")\n",
    "    \n",
    "def function2(func):   #Here function1 is passed as func to function2 paameter \n",
    "    print(\"Function_2\")\n",
    "    func() #calls function1 - as parameter \n",
    "\n",
    "function2(function1)"
   ]
  },
  {
   "cell_type": "code",
   "execution_count": 74,
   "metadata": {},
   "outputs": [],
   "source": [
    "# Decorators - It takes as input a function. Adds some functionallity to it & returns\n",
    "# Technically, a Decorator in Python is any callable object that is used to modify a function or a class\n",
    "\n",
    "\n"
   ]
  },
  {
   "cell_type": "code",
   "execution_count": 75,
   "metadata": {},
   "outputs": [
    {
     "data": {
      "text/plain": [
       "'learning decorator'"
      ]
     },
     "execution_count": 75,
     "metadata": {},
     "output_type": "execute_result"
    }
   ],
   "source": [
    "#Basic function - without Decorators\n",
    "def abc_lower():\n",
    "    return \"learning decorator\"\n",
    "\n",
    "abc_lower()"
   ]
  },
  {
   "cell_type": "code",
   "execution_count": 76,
   "metadata": {},
   "outputs": [
    {
     "name": "stdout",
     "output_type": "stream",
     "text": [
      "learning decorator\n",
      "LEARNING DECORATOR\n"
     ]
    }
   ],
   "source": [
    "def abc_upper(func):\n",
    "    def inner():\n",
    "        str1=func()\n",
    "        return str1.upper()\n",
    "    return inner\n",
    "\n",
    "def abc_lower():\n",
    "    return \"learning decorator\"\n",
    "\n",
    "print(abc_lower())\n",
    "\n",
    "d=abc_upper(abc_lower)\n",
    "print(d())"
   ]
  },
  {
   "cell_type": "code",
   "execution_count": 77,
   "metadata": {},
   "outputs": [
    {
     "name": "stdout",
     "output_type": "stream",
     "text": [
      "LEARNING DECORATOR\n"
     ]
    }
   ],
   "source": [
    "# Now the correct way of Decorators\n",
    "def abc_upper(func):\n",
    "    def inner():\n",
    "        str1=func()\n",
    "        return str1.upper()\n",
    "    return inner\n",
    "\n",
    "@abc_upper\n",
    "def abc_lower():\n",
    "    return \"learning decorator\"\n",
    "\n",
    "print(abc_lower())"
   ]
  },
  {
   "cell_type": "code",
   "execution_count": null,
   "metadata": {},
   "outputs": [],
   "source": []
  }
 ],
 "metadata": {
  "kernelspec": {
   "display_name": "Python 3",
   "language": "python",
   "name": "python3"
  },
  "language_info": {
   "codemirror_mode": {
    "name": "ipython",
    "version": 3
   },
   "file_extension": ".py",
   "mimetype": "text/x-python",
   "name": "python",
   "nbconvert_exporter": "python",
   "pygments_lexer": "ipython3",
   "version": "3.7.6"
  }
 },
 "nbformat": 4,
 "nbformat_minor": 4
}
