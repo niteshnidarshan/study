{
 "cells": [
  {
   "cell_type": "raw",
   "metadata": {},
   "source": [
    "Question 1)\n",
    "You are provided with a number D containing only digits 0's and 1's. Your aim is to convert\n",
    "this number to have all the digits same.\n",
    "For that, you will change exactly one digit i.e. from 0 to 1 or from 1 to 0. If it is possible to\n",
    "make all digits equal (either all 0's or all 1's) by flipping exactly 1 digit then output \"YES\", else\n",
    "print \"NO\" (quotes for clarity).\n",
    "Input Format:\n",
    "The first line of the input contains the number D made of only digits 1's and 0's.\n",
    "Output:\n",
    "Print 'YES' or 'NO' depending on whether its possible to make it all 0s or 1s or not.\n",
    "Example-1:\n",
    "Input:\n",
    "101\n",
    "Output:\n",
    "YES\n",
    "Example-2:\n",
    "Input:\n",
    "11\n",
    "Output:\n",
    "NO\n",
    "Explanation:\n",
    "In the first example, it is possible to make all the digits same by flipping the middle digit\n",
    "from 0 to 1. In the second example it is not possible."
   ]
  },
  {
   "cell_type": "code",
   "execution_count": 16,
   "metadata": {},
   "outputs": [
    {
     "data": {
      "text/plain": [
       "'YES'"
      ]
     },
     "execution_count": 16,
     "metadata": {},
     "output_type": "execute_result"
    }
   ],
   "source": [
    "# Solution :\n",
    "# If length == 1 return 'YES'\n",
    "# elif length == 2 and 1st == 2nd then return 'NO'\n",
    "# else loop till length :\n",
    "#     count_1; count_0;\n",
    "#     if count_1 == 1 or count_0 == 1 && count_1+count_0 == length then return 'YES' else return 'NO'\n",
    "\n",
    "\n",
    "def canAllDigitEqual(num):\n",
    "    result = 'NO'\n",
    "    length = len(str(num))\n",
    "    count_1 = 0\n",
    "    count_0 = 0\n",
    "    if length == 1:\n",
    "        result = 'YES'\n",
    "    elif length ==2:\n",
    "        list = str(num)\n",
    "        if list[0] == list[1]:\n",
    "            result = 'NO'\n",
    "        else:\n",
    "            result = 'YES'\n",
    "    else:\n",
    "        list = str(num)\n",
    "        for i in list:\n",
    "            index_value = int(i)\n",
    "            if index_value == 1:\n",
    "                count_1 = count_1+1\n",
    "            else:\n",
    "                count_0 = count_0+1\n",
    "        if((count_1 == 1 or count_0 == 1) and ((count_1+count_0) == length)):\n",
    "            result = 'YES'\n",
    "        else:\n",
    "            result = 'NO'\n",
    "    return result\n",
    "\n",
    "\n",
    "canAllDigitEqual(1111111110)"
   ]
  },
  {
   "cell_type": "code",
   "execution_count": null,
   "metadata": {},
   "outputs": [],
   "source": []
  }
 ],
 "metadata": {
  "kernelspec": {
   "display_name": "Python 3",
   "language": "python",
   "name": "python3"
  },
  "language_info": {
   "codemirror_mode": {
    "name": "ipython",
    "version": 3
   },
   "file_extension": ".py",
   "mimetype": "text/x-python",
   "name": "python",
   "nbconvert_exporter": "python",
   "pygments_lexer": "ipython3",
   "version": "3.7.6"
  }
 },
 "nbformat": 4,
 "nbformat_minor": 4
}
