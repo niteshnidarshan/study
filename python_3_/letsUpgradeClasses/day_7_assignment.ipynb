{
 "cells": [
  {
   "cell_type": "raw",
   "metadata": {},
   "source": [
    "Q1. Complete NB for map, filter and lambda."
   ]
  },
  {
   "cell_type": "markdown",
   "metadata": {},
   "source": [
    "# map(), filter() & reduce() "
   ]
  },
  {
   "cell_type": "raw",
   "metadata": {},
   "source": [
    "# Map(), filter(), reduce() are built-in functions of Python\n",
    "These functions enable the functional programming aspect of python.\n",
    "In functional programming, the arguments passed are the only factors that decide upon the output.\n",
    "These functions can take any other function as a parameter & can be supplied to other functions as parameters as well. "
   ]
  },
  {
   "cell_type": "code",
   "execution_count": 60,
   "metadata": {},
   "outputs": [],
   "source": [
    "# map() - It applies the given function to all iterables & returns a new list\n",
    "# map(function, iterables) - Anything which can be iterate will be the 2nd argument as list | tuple | String | dictionary\n",
    "# It returns object, so need to parse it with list/ tuple/ set see the result\n",
    "\n"
   ]
  },
  {
   "cell_type": "code",
   "execution_count": 80,
   "metadata": {},
   "outputs": [
    {
     "name": "stdout",
     "output_type": "stream",
     "text": [
      "25\n"
     ]
    }
   ],
   "source": [
    "# without using map()\n",
    "def sqr(a):\n",
    "    return a*a\n",
    "x=sqr(5)\n",
    "print(x)"
   ]
  },
  {
   "cell_type": "code",
   "execution_count": 88,
   "metadata": {},
   "outputs": [
    {
     "name": "stdout",
     "output_type": "stream",
     "text": [
      "<map object at 0x10dc35c50>\n"
     ]
    }
   ],
   "source": [
    "# with map(function, iterables)\n",
    "def sqr(a):\n",
    "    return a*a\n",
    "x = map(sqr, [1,2,3,4,81])\n",
    "print(x)"
   ]
  },
  {
   "cell_type": "code",
   "execution_count": 66,
   "metadata": {},
   "outputs": [
    {
     "name": "stdout",
     "output_type": "stream",
     "text": [
      "<class 'map'>\n"
     ]
    }
   ],
   "source": [
    "print(type(x))"
   ]
  },
  {
   "cell_type": "code",
   "execution_count": 89,
   "metadata": {},
   "outputs": [
    {
     "name": "stdout",
     "output_type": "stream",
     "text": [
      "{1, 6561, 4, 9, 16}\n"
     ]
    }
   ],
   "source": [
    "#Any of the following\n",
    "#print(list(x)) \n",
    "#print(tuple(x))\n",
    "print(set(x))"
   ]
  },
  {
   "cell_type": "code",
   "execution_count": 93,
   "metadata": {},
   "outputs": [
    {
     "name": "stdout",
     "output_type": "stream",
     "text": [
      "<map object at 0x10dcfe710>\n",
      "<class 'map'>\n",
      "[2, 12, 4, 45, 0]\n"
     ]
    }
   ],
   "source": [
    "# with two parameters \n",
    "def sqr(a, b):\n",
    "    return a*b\n",
    "\n",
    "x = map(sqr, [2,3,4,5,0], [1,4,1,9,0])\n",
    "\n",
    "print(x)\n",
    "print(type(x))\n",
    "print(list(x))\n",
    "#print(tuple(x))\n",
    "#print(set(x))\n",
    "\n",
    "#print(tuple(list(x)))\n",
    "#print(set(list(x)))"
   ]
  },
  {
   "cell_type": "code",
   "execution_count": 70,
   "metadata": {},
   "outputs": [
    {
     "name": "stdout",
     "output_type": "stream",
     "text": [
      "[1, -1, 3, -4]\n"
     ]
    }
   ],
   "source": [
    "def sqr(a, b):\n",
    "    return a-b\n",
    "\n",
    "x = map(sqr, [2,3,4,5], [1,4,1,9])\n",
    "\n",
    "print(list(x))"
   ]
  },
  {
   "cell_type": "code",
   "execution_count": 71,
   "metadata": {},
   "outputs": [
    {
     "name": "stdout",
     "output_type": "stream",
     "text": [
      "[1, -1, 3, -4]\n"
     ]
    }
   ],
   "source": [
    "def sqr(a, b):\n",
    "    return a-b\n",
    "\n",
    "print(list(map(sqr, [2,3,4,5], [1,4,1,9])))\n"
   ]
  },
  {
   "cell_type": "markdown",
   "metadata": {},
   "source": [
    "# lambda function\n",
    "> Everything in the world of programming requires a name, but there still there are a few ananymous mysteries. Lambda functions or Lambda expressions are one of these kind of entities that are nameless.\n",
    "\n",
    "> They are the functions that do not have any name.\n",
    "\n",
    "> We also call them as anonymous or nameless functions.\n",
    "\n",
    "> They are generally provided as input to other functions.\n",
    "\n",
    "> Lambda functions are single line functions. Therefore we have to provide the expression along with the function itself.\n",
    "\n",
    "> Note : 'lambda' is not a name, it is a keyword.\n",
    "\n",
    "# Use of lambda functions: \n",
    "> 1) One time use : They are used in places where we know that the function will be required just once. Therefore, lambda functions are also called as throw away functions.\n",
    "\n",
    "> 2) Input/ Output to other functions : They are also passed as inputs or returned as outputs of other higher-order functions.\n",
    "\n",
    "> Reduce code size : The body of lambda is written in single line.\n",
    "\n",
    "# Syntax  [ lambda arguments: expression ]\n",
    "\n",
    "> Arguments : parameters\n",
    "\n",
    "> expression : Statements to be perfomed\n",
    "\n"
   ]
  },
  {
   "cell_type": "code",
   "execution_count": 72,
   "metadata": {},
   "outputs": [
    {
     "data": {
      "text/plain": [
       "9"
      ]
     },
     "execution_count": 72,
     "metadata": {},
     "output_type": "execute_result"
    }
   ],
   "source": [
    "# Without lambda\n",
    "def sqr(a):\n",
    "    return a*a\n",
    "\n",
    "sqr(3)"
   ]
  },
  {
   "cell_type": "code",
   "execution_count": 97,
   "metadata": {},
   "outputs": [
    {
     "data": {
      "text/plain": [
       "9"
      ]
     },
     "execution_count": 97,
     "metadata": {},
     "output_type": "execute_result"
    }
   ],
   "source": [
    "# with lambda\n",
    "sqr = lambda a: a*a\n",
    "\n",
    "sqr(3)\n"
   ]
  },
  {
   "cell_type": "code",
   "execution_count": 96,
   "metadata": {},
   "outputs": [
    {
     "data": {
      "text/plain": [
       "9"
      ]
     },
     "execution_count": 96,
     "metadata": {},
     "output_type": "execute_result"
    }
   ],
   "source": [
    "x = lambda a, b: a*b\n",
    "x(3,3)"
   ]
  },
  {
   "cell_type": "code",
   "execution_count": 79,
   "metadata": {},
   "outputs": [
    {
     "name": "stdout",
     "output_type": "stream",
     "text": [
      "9\n"
     ]
    }
   ],
   "source": [
    "# lmabda within user defined functions\n",
    "\n",
    "def abc(x):\n",
    "    return lambda y: x+y\n",
    "t = abc(5)\n",
    "print(t(4))"
   ]
  },
  {
   "cell_type": "code",
   "execution_count": 104,
   "metadata": {},
   "outputs": [
    {
     "name": "stdout",
     "output_type": "stream",
     "text": [
      "Jay Ram G Ki! Jay Ram G Ki! Jay Ram G Ki! \n"
     ]
    }
   ],
   "source": [
    "x = lambda noOfRepetaion: print(\"Jay Ram G Ki! \"*noOfRepetaion)\n",
    "\n",
    "x(3)\n",
    "\n"
   ]
  },
  {
   "cell_type": "code",
   "execution_count": 105,
   "metadata": {},
   "outputs": [
    {
     "data": {
      "text/plain": [
       "11"
      ]
     },
     "execution_count": 105,
     "metadata": {},
     "output_type": "execute_result"
    }
   ],
   "source": [
    "#Solving Algebraic expressions using lambda\n",
    "#Linear equation\n",
    "#z = 5x+3y\n",
    "\n",
    "z = lambda x, y: 5*x + 3*y\n",
    "z(1,2)"
   ]
  },
  {
   "cell_type": "code",
   "execution_count": 107,
   "metadata": {},
   "outputs": [
    {
     "data": {
      "text/plain": [
       "7"
      ]
     },
     "execution_count": 107,
     "metadata": {},
     "output_type": "execute_result"
    }
   ],
   "source": [
    "#Quadratic expression\n",
    "\n",
    "#z=(a+b)^2\n",
    "\n",
    "z=lambda a,b: (a+b)**2\n",
    "z(2,3)"
   ]
  },
  {
   "cell_type": "markdown",
   "metadata": {},
   "source": [
    "# Lambda is generally used with inbuild functions"
   ]
  },
  {
   "cell_type": "code",
   "execution_count": 110,
   "metadata": {},
   "outputs": [
    {
     "data": {
      "text/plain": [
       "[4, 5, 6, 7]"
      ]
     },
     "execution_count": 110,
     "metadata": {},
     "output_type": "execute_result"
    }
   ],
   "source": [
    "#lambda with map\n",
    "\n",
    "l=[1,2,3,4]\n",
    "list(map(lambda x: x+3, l)) # map(fun, itr)\n",
    "\n"
   ]
  },
  {
   "cell_type": "markdown",
   "metadata": {},
   "source": [
    "# filter()\n",
    "\n",
    "> It is used to filter the given iterables with the help of another function passed as an argument to test all the elements to be True or False.\n",
    "\n",
    "> Syntax [ filter(function, iterables) ]\n",
    "\n",
    "> It also returns object, so it need to parse with list/ tuple/ set to see the result"
   ]
  },
  {
   "cell_type": "code",
   "execution_count": 111,
   "metadata": {},
   "outputs": [
    {
     "name": "stdout",
     "output_type": "stream",
     "text": [
      "<filter object at 0x10dc85c10>\n",
      "<class 'filter'>\n",
      "[3, 4, 5, 7]\n"
     ]
    }
   ],
   "source": [
    "#filter(function, iterables)\n",
    "\n",
    "def sqr(a):\n",
    "    if a>=3:\n",
    "        return a\n",
    "    \n",
    "x= filter(sqr, [1,2,3,4,5,7])\n",
    "print(x)\n",
    "print(type(x))\n",
    "print(list(x))"
   ]
  },
  {
   "cell_type": "code",
   "execution_count": 114,
   "metadata": {},
   "outputs": [
    {
     "name": "stdout",
     "output_type": "stream",
     "text": [
      "[3, 4, 5, 7]\n"
     ]
    }
   ],
   "source": [
    "# filter with lambda\n",
    "l=[1,2,3,4,5,7]\n",
    "print(list(filter(lambda x:x>=3, l)))\n"
   ]
  },
  {
   "cell_type": "markdown",
   "metadata": {},
   "source": [
    "# Reduce()\n",
    "\n",
    "> It applies some other function to a list that are passed as a parameter to it & finally return a single value.\n",
    "\n",
    "> syntax [ reduce(function, iterables) ]"
   ]
  },
  {
   "cell_type": "code",
   "execution_count": 116,
   "metadata": {},
   "outputs": [
    {
     "name": "stdout",
     "output_type": "stream",
     "text": [
      "10\n"
     ]
    }
   ],
   "source": [
    "# reduce(function, iterables) returns a single value\n",
    "#import functools\n",
    "from functools import reduce # Its an efficient way\n",
    "\n",
    "def sqr(a,b): \n",
    "    return a+b # 'a' will act as a result [a= a+b]\n",
    "\n",
    "x=reduce(sqr, [1,2,3,4])\n",
    "\n",
    "print(x)"
   ]
  },
  {
   "cell_type": "code",
   "execution_count": 117,
   "metadata": {},
   "outputs": [
    {
     "name": "stdout",
     "output_type": "stream",
     "text": [
      "10\n"
     ]
    }
   ],
   "source": [
    "# reduce with lambda\n",
    "\n",
    "print(reduce(lambda a, b : a+b,[1,2,3,4]))"
   ]
  },
  {
   "cell_type": "code",
   "execution_count": 118,
   "metadata": {},
   "outputs": [
    {
     "name": "stdout",
     "output_type": "stream",
     "text": [
      "[6, 8]\n"
     ]
    }
   ],
   "source": [
    "#filter within map\n",
    "#always inner function will be executed first then outer\n",
    "x=map(lambda x: x+x, filter(lambda x: x>=3, [1,2,3,4]))\n",
    "print(list(x))"
   ]
  },
  {
   "cell_type": "code",
   "execution_count": 120,
   "metadata": {},
   "outputs": [
    {
     "name": "stdout",
     "output_type": "stream",
     "text": [
      "[4, 5, 6, 7]\n"
     ]
    }
   ],
   "source": [
    "#map with filter\n",
    "x=filter(lambda x: x>=3, map(lambda x: x+3, [1,2,3,4]))\n",
    "print(list(x))"
   ]
  },
  {
   "cell_type": "code",
   "execution_count": 16,
   "metadata": {},
   "outputs": [],
   "source": [
    "# map and filter within reduce\n",
    "x=reduce(lambda x,y: x+y, map(lambda x: x+x, filter(lambda x: x>=3, (1,2,3,4))))\n",
    "\n",
    "print(x)"
   ]
  },
  {
   "cell_type": "raw",
   "metadata": {},
   "source": [
    "Q2.\n",
    "Write a Python program to add the digits of a positive integer repeatedly until the result has a\n",
    "single digit.\n",
    "Input Format:\n",
    "The first line of the input contains a number n.\n",
    "Output:\n",
    "Print the resultant number\n",
    "Example:\n",
    "Input:\n",
    "48\n",
    "Output:\n",
    "3\n",
    "Explanation: If you add digits 4 and 8, you will get 12. Again adding 1 and 2 will give 3\n",
    "which is a single digit and hence the answer."
   ]
  },
  {
   "cell_type": "code",
   "execution_count": 12,
   "metadata": {},
   "outputs": [],
   "source": [
    "def getSingleDigit(digit):\n",
    "    add = 0\n",
    "    digitList = digit\n",
    "    length = len(str(digitList))\n",
    "    print(length)\n",
    "    while(length>1):\n",
    "        for i in digitList:\n",
    "            add = add+int(i)\n",
    "        length=len(str(add))\n",
    "    return add\n",
    "\n",
    "print(getSingleDigit(128))\n",
    "    "
   ]
  }
 ],
 "metadata": {
  "kernelspec": {
   "display_name": "Python 3",
   "language": "python",
   "name": "python3"
  },
  "language_info": {
   "codemirror_mode": {
    "name": "ipython",
    "version": 3
   },
   "file_extension": ".py",
   "mimetype": "text/x-python",
   "name": "python",
   "nbconvert_exporter": "python",
   "pygments_lexer": "ipython3",
   "version": "3.7.6"
  }
 },
 "nbformat": 4,
 "nbformat_minor": 4
}
