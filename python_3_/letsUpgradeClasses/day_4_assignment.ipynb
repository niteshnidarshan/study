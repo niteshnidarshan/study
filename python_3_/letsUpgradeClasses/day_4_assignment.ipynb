{
 "cells": [
  {
   "cell_type": "raw",
   "metadata": {},
   "source": [
    "1) Write a program to identify [1,1,5] in the given list in the same order, if yes print 'It's a match' else print 'it's gone'\n",
    "\t\te.g. Listy = [1,5,6,4,1,2,3,5] - It's a Match\n",
    "\t\t\t Listy = [1,5,6,5,1,2,3,6] - It's Gone\t"
   ]
  },
  {
   "cell_type": "code",
   "execution_count": 1,
   "metadata": {},
   "outputs": [
    {
     "data": {
      "text/plain": [
       "\"It's a Match\""
      ]
     },
     "execution_count": 1,
     "metadata": {},
     "output_type": "execute_result"
    }
   ],
   "source": [
    "def identifyList(listy):\n",
    "    result = \"\";\n",
    "    base = [1,1,5]\n",
    "    baseBoolean = [False, False, False] \n",
    "    count = 0\n",
    "    for i in listy:\n",
    "        if count < 3 and i==base[count]:\n",
    "            baseBoolean[count] = True\n",
    "            count = count+1             \n",
    "    if(baseBoolean[0] and baseBoolean[1] and baseBoolean[2]):\n",
    "        return \"It's a Match\"\n",
    "    else:\n",
    "        return \"It's Gone\"\n",
    "    \n",
    "identifyList([1,5,6,4,1,1,5,3,2,6])   \n"
   ]
  },
  {
   "cell_type": "code",
   "execution_count": null,
   "metadata": {},
   "outputs": [],
   "source": []
  }
 ],
 "metadata": {
  "kernelspec": {
   "display_name": "Python 3",
   "language": "python",
   "name": "python3"
  },
  "language_info": {
   "codemirror_mode": {
    "name": "ipython",
    "version": 3
   },
   "file_extension": ".py",
   "mimetype": "text/x-python",
   "name": "python",
   "nbconvert_exporter": "python",
   "pygments_lexer": "ipython3",
   "version": "3.7.6"
  }
 },
 "nbformat": 4,
 "nbformat_minor": 4
}
