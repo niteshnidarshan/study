{
 "cells": [
  {
   "cell_type": "code",
   "execution_count": 1,
   "metadata": {},
   "outputs": [],
   "source": [
    "import os # where is my jupyter notebook opend"
   ]
  },
  {
   "cell_type": "code",
   "execution_count": 2,
   "metadata": {},
   "outputs": [
    {
     "data": {
      "text/plain": [
       "'/Users/niteshnidarshan'"
      ]
     },
     "execution_count": 2,
     "metadata": {},
     "output_type": "execute_result"
    }
   ],
   "source": [
    "os.getcwd() #To get the present working directory"
   ]
  },
  {
   "cell_type": "code",
   "execution_count": 3,
   "metadata": {},
   "outputs": [],
   "source": [
    "a=1\n",
    "b=2\n",
    "c=a+b"
   ]
  },
  {
   "cell_type": "code",
   "execution_count": 5,
   "metadata": {},
   "outputs": [
    {
     "name": "stdout",
     "output_type": "stream",
     "text": [
      "Addition of  1  &  2  is  3\n"
     ]
    }
   ],
   "source": [
    "print(\"Addition of \",a,\" & \",b,\" is \",c)"
   ]
  },
  {
   "cell_type": "code",
   "execution_count": 6,
   "metadata": {},
   "outputs": [
    {
     "name": "stdout",
     "output_type": "stream",
     "text": [
      "(1, 0, 0)\n",
      "<class 'tuple'>\n"
     ]
    }
   ],
   "source": [
    "a=1,00,000\n",
    "print(a)\n",
    "print(type(a))"
   ]
  },
  {
   "cell_type": "code",
   "execution_count": 7,
   "metadata": {},
   "outputs": [],
   "source": [
    "str1='hello world'\n"
   ]
  },
  {
   "cell_type": "code",
   "execution_count": 8,
   "metadata": {},
   "outputs": [
    {
     "name": "stdout",
     "output_type": "stream",
     "text": [
      "world\n"
     ]
    }
   ],
   "source": [
    "print(str1[-5:])"
   ]
  },
  {
   "cell_type": "code",
   "execution_count": 15,
   "metadata": {},
   "outputs": [
    {
     "name": "stdout",
     "output_type": "stream",
     "text": [
      "h\n"
     ]
    }
   ],
   "source": [
    "print(str1[0])"
   ]
  },
  {
   "cell_type": "markdown",
   "metadata": {},
   "source": [
    "# How to print 'world' using backword slicing ?\n",
    ">str1='hello world'\n",
    "\n",
    ">>print(str1[-5:]) returns 'worl'"
   ]
  },
  {
   "cell_type": "code",
   "execution_count": 18,
   "metadata": {},
   "outputs": [
    {
     "name": "stdout",
     "output_type": "stream",
     "text": [
      "0\n"
     ]
    }
   ],
   "source": [
    "print(1+1**5-2)"
   ]
  },
  {
   "cell_type": "code",
   "execution_count": 19,
   "metadata": {},
   "outputs": [
    {
     "name": "stdout",
     "output_type": "stream",
     "text": [
      "30\n"
     ]
    }
   ],
   "source": [
    "print((1+1)**5-2)"
   ]
  },
  {
   "cell_type": "code",
   "execution_count": 20,
   "metadata": {},
   "outputs": [
    {
     "name": "stdout",
     "output_type": "stream",
     "text": [
      "15.0\n"
     ]
    }
   ],
   "source": [
    "print(4+6**(2-1)+5/1)"
   ]
  },
  {
   "cell_type": "code",
   "execution_count": 24,
   "metadata": {},
   "outputs": [],
   "source": [
    "#+ operator with String\n",
    "\n",
    "str2 = 'first_'"
   ]
  },
  {
   "cell_type": "code",
   "execution_count": 22,
   "metadata": {},
   "outputs": [],
   "source": [
    "str3 = str2+'second'"
   ]
  },
  {
   "cell_type": "code",
   "execution_count": 23,
   "metadata": {},
   "outputs": [
    {
     "name": "stdout",
     "output_type": "stream",
     "text": [
      "first_second\n"
     ]
    }
   ],
   "source": [
    "print(str3)"
   ]
  },
  {
   "cell_type": "code",
   "execution_count": 25,
   "metadata": {},
   "outputs": [
    {
     "name": "stdout",
     "output_type": "stream",
     "text": [
      "first_secondfirst_secondfirst_second\n"
     ]
    }
   ],
   "source": [
    "#* operator with String\n",
    "\n",
    "print(str3*3)"
   ]
  },
  {
   "cell_type": "code",
   "execution_count": 26,
   "metadata": {},
   "outputs": [
    {
     "data": {
      "text/plain": [
       "[1, 2, 3, 4]"
      ]
     },
     "execution_count": 26,
     "metadata": {},
     "output_type": "execute_result"
    }
   ],
   "source": [
    "list((1,2,3,4))"
   ]
  },
  {
   "cell_type": "code",
   "execution_count": 27,
   "metadata": {},
   "outputs": [
    {
     "data": {
      "text/plain": [
       "(1, 2, 3, 4)"
      ]
     },
     "execution_count": 27,
     "metadata": {},
     "output_type": "execute_result"
    }
   ],
   "source": [
    "tuple([1,2,3,4])"
   ]
  },
  {
   "cell_type": "markdown",
   "metadata": {},
   "source": [
    "# What we learnt today ... Let us sum up"
   ]
  },
  {
   "cell_type": "raw",
   "metadata": {},
   "source": [
    "Class_2\n",
    "=============\n",
    "import os \t\t# where is my jupyter notebook opened\n",
    "os.getcwd() \t# To get the present working directory\n",
    "\n",
    "concat [,]\n",
    "----------\n",
    "\ta=1\n",
    "\tb=2\n",
    "\tc=a+b\n",
    "\tprint(\"Addition of \",a,\" & \",b,\" is \",c)\n",
    "\n",
    "\t>>> Addition of  1  &  2  is  3\n",
    " \n",
    "\n",
    "\n",
    "Python basics\n",
    "-------------------\n",
    "\tPython is an Interpreter & High Level Language & its file extension is .py.\n",
    "\n",
    "\t'python' is a command to execute python file.\n",
    "\t\t$python\n",
    "\t\t>>>python xyz.py\n",
    "\n",
    "\tIn Jupyter mode, python file extension will be .ipynb.[i python notebook. python name was initially 'ipython']\n",
    "\n",
    "\tIt has two modes : \n",
    "\t\t1) Interactive Mode\n",
    "\t\t2) Script Mode \n",
    "\n",
    "\tVariable name in python should be in intuitive mode\n",
    "\t\t1_a = 5 #variable name not valid\n",
    "\t\t@a_123 = 5 #variable name not valid\n",
    "\n",
    "\n",
    "Data Types\n",
    "-------------------\n",
    "\n",
    "\tint - Plain integer\n",
    "\tlong - long integer with 'L' suffix\n",
    "\tfloat - floating point number\n",
    "\tcomplex - complex number, real & imaginary part\n",
    "\tboolean - True, False\n",
    "\tsequence - string, list, tuple\n",
    "\tmapping - Dictionary\n",
    "\tset - unordered collection of distinct objects\n",
    "\tfile - used to make file system objects\n",
    "\t\n",
    "\t\n",
    "\n",
    "\t1) Numbers\n",
    "\t\tIt can be int, float, long & complex numbers(complex numbers like 2.14j, 2.0+2.3j [as a+bj format means will accept 'j' only] etc.) \n",
    "\t\tFor long \n",
    "\n",
    "\t\ta=1,00,000 #Considered as a tuple\n",
    "\t\tprint(a)\n",
    "\t\tprint(type(a))\n",
    "\n",
    "\t\t>>>\t(1, 0, 0)\n",
    "\t\t\t<class 'tuple'>\n",
    "\n",
    "\t2) String\n",
    "\t\tslicing operator : [Start Index : End Index]\n",
    "\n",
    "\t\tstr1 = 'hello world'\n",
    "\t\tprint(str1[0:3])\n",
    "\t\t>>>hel #[Start Index : End Index-1]\n",
    "\n",
    "\t\tprint(str1[6:10])\n",
    "\t\t>>>worl\n",
    "\n",
    "\t\tprint(str1[6])\n",
    "\t\t>>>w\n",
    "\n",
    "\t\tforward indexing [0 to +11]\n",
    "\t\tbackward indexing [-1 to -12] #from last. Here 0 is not considered because of 0 confusion \n",
    "\n",
    "\t\tprint(str1[-11]) \n",
    "\t\t>>>h\n",
    "\n",
    "\t\tprint(str1[-5:0])\n",
    "\t\t>>>world\n",
    "\n",
    "\t\t##How to print 'world' using backward slicing ?\n",
    "\t\t\tstr1='hello world'\n",
    "\n",
    "\t\t\tprint(str1[-5:-1]) returns 'worl'\n",
    "\n",
    "\n",
    "\t\t#With string :\n",
    "\t\t\t+ operator works as concatenation\n",
    "\t\t\t* operator works as repetition \n",
    "\n",
    "\t\t\n",
    "\t\t\n",
    "\t\t\n",
    "\t3) List - are immutable & can be changed | represented by []\n",
    "\t4) Tuple - are mutable & can not be changed i.e. fixed | represented by ()\n",
    "\t5) Dictionary\n",
    "\n",
    "\n",
    "\tTo know data type : type()\n",
    "\n",
    "Typecasting\n",
    "--------------\n",
    "\t#String/float to int\n",
    "\tint('2018') //2018\n",
    "\tint('3.123') //3\n",
    "\n",
    "\tfloat(3) //3.0\n",
    "\n",
    "\t# int, float, list, tuple, dictionary to String\n",
    "\tNote : \t[] is for list \n",
    "\t\t\t() is for tuple\n",
    "\t\t\t\n",
    "\n",
    "\tstr([1,2,3,4]) //'[1,2,3,4]'\n",
    "\t\n",
    "\n",
    "\t# String, tuple, dict to list\n",
    "\tlist('Darshan') // ['D','a', 'r', 's', 'h', 'a', 'n']\n",
    "\n",
    "\tlist((1,2,3,4)) //[1,2,3,4]\n",
    "\n",
    "\ttuple([1,2,3,4]) //(1,2,3,4)\n",
    "\n",
    "\n",
    "Keywords :\n",
    "--------------\n",
    "\tTrue, False, None, and, as, asset, def, class, continue, break, else, finally, elif, del, except, \n",
    "\tglobal, for, if, from, import, raise, try, or, return, pass, nonlocal, in, not, is, lambda\n",
    "\n",
    "\n",
    "\n",
    "Order of Operations :\n",
    "-----------------------\n",
    "\tPEMDAS : \n",
    "\t-----------------\n",
    "\tParentheses - ()\n",
    "\tExponential - e(**)\n",
    "\tMultiplication  \n",
    "\tDivision  \n",
    "\tAddition  \n",
    "\tSubtraction \n",
    "\n",
    "\tM,D - [Left to right associativity]\n",
    "\tA,S - [Left to right associativity]\n",
    "\n",
    "\tprint(1+1**5-2) = 0\n",
    "\tprint((1+1)**5-2) = 30\n",
    "\n",
    "\tprint(4+6**(2-1)+5/1) = 15.0\n",
    "\n",
    " "
   ]
  },
  {
   "cell_type": "code",
   "execution_count": null,
   "metadata": {},
   "outputs": [],
   "source": []
  }
 ],
 "metadata": {
  "kernelspec": {
   "display_name": "Python 3",
   "language": "python",
   "name": "python3"
  },
  "language_info": {
   "codemirror_mode": {
    "name": "ipython",
    "version": 3
   },
   "file_extension": ".py",
   "mimetype": "text/x-python",
   "name": "python",
   "nbconvert_exporter": "python",
   "pygments_lexer": "ipython3",
   "version": "3.7.6"
  }
 },
 "nbformat": 4,
 "nbformat_minor": 4
}
