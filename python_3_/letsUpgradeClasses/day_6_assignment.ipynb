{
 "cells": [
  {
   "cell_type": "markdown",
   "metadata": {},
   "source": [
    "# Day_6_assignment "
   ]
  },
  {
   "cell_type": "raw",
   "metadata": {},
   "source": [
    "Question 1) \n",
    "Let us assume paper as the plane and a letter as a curve on the plane, then each letter divides\n",
    "the plane into regions. For example letters \"A\", \"D\",\"O\", \"P\", \"R\" divide the plane into two\n",
    "regions so we say these letters each have one hole. Similarly, letter \"B\" has two holes and\n",
    "letters such as \"C\",\"E\", \"F\", \"K\" have no holes. We say that the number of holes in the text is\n",
    "equal to the total number of holes in the letters of the text.\n",
    "Write a program to determine how many holes are in a given text.\n",
    "Input Format:\n",
    "The only line contains a non-empty text composed only of uppercase letters of English\n",
    "alphabet.\n",
    "Output Format:\n",
    "output a single line containing the number of holes in the corresponding text.\n",
    "Example:\n",
    "Input:\n",
    "DRINKEATCODE\n",
    "Output:\n",
    "5\n",
    "Explanation:\n",
    "D R A O D has one hole hence total number of holes in the text is 5.\n"
   ]
  },
  {
   "cell_type": "code",
   "execution_count": 14,
   "metadata": {},
   "outputs": [
    {
     "data": {
      "text/plain": [
       "9"
      ]
     },
     "execution_count": 14,
     "metadata": {},
     "output_type": "execute_result"
    }
   ],
   "source": [
    "\n",
    "def findTotalHoleChars(arg):\n",
    "    hole_letters = {'A':0,'B':0,'D':0,'O':0,'P':0,'Q':0,'R':0}\n",
    "    holeKeys = hole_letters.keys\n",
    "    count = 0\n",
    "    for char in arg:\n",
    "        if(hole_letters.get(char) is not None):\n",
    "            count = count+1\n",
    "    return count\n",
    "        \n",
    "findTotalHoleChars('DRINKEATCODEEEEEEEOXCVGRRR')\n"
   ]
  },
  {
   "cell_type": "raw",
   "metadata": {},
   "source": [
    "Question 2) Create a notebook of map() and lambda()"
   ]
  },
  {
   "cell_type": "code",
   "execution_count": 15,
   "metadata": {},
   "outputs": [],
   "source": [
    "# map() - It applies the given function to all iterables & returns a new list\n",
    "# map(function, iterables) - Anything which can be iterate will be the 2nd argument as list | tuple | String | dictionary\n",
    "# It returns list \n",
    "\n"
   ]
  },
  {
   "cell_type": "code",
   "execution_count": 16,
   "metadata": {},
   "outputs": [
    {
     "name": "stdout",
     "output_type": "stream",
     "text": [
      "25\n"
     ]
    }
   ],
   "source": [
    "# without using map()\n",
    "def sqr(a):\n",
    "    return a*a\n",
    "x=sqr(5)\n",
    "print(x)"
   ]
  },
  {
   "cell_type": "code",
   "execution_count": 17,
   "metadata": {},
   "outputs": [
    {
     "name": "stdout",
     "output_type": "stream",
     "text": [
      "<map object at 0x10d59ee90>\n"
     ]
    }
   ],
   "source": [
    "# with map(function, iterables)\n",
    "def sqr(a):\n",
    "    return a*a\n",
    "x = map(sqr, [1,2,3,4,81])\n",
    "print(x)"
   ]
  },
  {
   "cell_type": "code",
   "execution_count": 18,
   "metadata": {},
   "outputs": [
    {
     "name": "stdout",
     "output_type": "stream",
     "text": [
      "<class 'map'>\n"
     ]
    }
   ],
   "source": [
    "print(type(x))"
   ]
  },
  {
   "cell_type": "code",
   "execution_count": 19,
   "metadata": {},
   "outputs": [
    {
     "name": "stdout",
     "output_type": "stream",
     "text": [
      "[1, 4, 9, 16, 6561]\n"
     ]
    }
   ],
   "source": [
    "print(list(x))"
   ]
  },
  {
   "cell_type": "code",
   "execution_count": 20,
   "metadata": {},
   "outputs": [
    {
     "name": "stdout",
     "output_type": "stream",
     "text": [
      "<map object at 0x10cb54310>\n",
      "<class 'map'>\n",
      "[2, 12, 4, 45]\n",
      "()\n",
      "set()\n",
      "()\n",
      "set()\n"
     ]
    }
   ],
   "source": [
    "# with two parameters \n",
    "def sqr(a, b):\n",
    "    return a*b\n",
    "\n",
    "x = map(sqr, [2,3,4,5], [1,4,1,9])\n",
    "\n",
    "print(x)\n",
    "print(type(x))\n",
    "print(list(x))\n",
    "print(tuple(x))\n",
    "print(set(x))\n",
    "\n",
    "print(tuple(list(x)))\n",
    "print(set(list(x)))"
   ]
  },
  {
   "cell_type": "code",
   "execution_count": 21,
   "metadata": {},
   "outputs": [
    {
     "name": "stdout",
     "output_type": "stream",
     "text": [
      "[1, -1, 3, -4]\n"
     ]
    }
   ],
   "source": [
    "def sqr(a, b):\n",
    "    return a-b\n",
    "\n",
    "x = map(sqr, [2,3,4,5], [1,4,1,9])\n",
    "\n",
    "print(list(x))"
   ]
  },
  {
   "cell_type": "code",
   "execution_count": 22,
   "metadata": {},
   "outputs": [
    {
     "name": "stdout",
     "output_type": "stream",
     "text": [
      "[1, -1, 3, -4]\n"
     ]
    }
   ],
   "source": [
    "def sqr(a, b):\n",
    "    return a-b\n",
    "\n",
    "print(list(map(sqr, [2,3,4,5], [1,4,1,9])))\n"
   ]
  },
  {
   "cell_type": "markdown",
   "metadata": {},
   "source": [
    "# lambda function\n",
    "> Everything in the world of programming requires a name, but there still there are a few ananymous mysteries. Lambda functions or Lambda expressions are one of these kind of entities that are nameless.\n",
    "\n",
    "> They are the functions that do not have any name.\n",
    "\n",
    "> We also call them as anonymous or nameless functions.\n",
    "\n",
    "> They are generally provided as input to other functions.\n",
    "\n",
    "> Lambda functions are single line functions. Therefore we have to provide the expression along with the function itself.\n",
    "\n",
    "> Note : 'lambda' is not a name, it is a keyword.\n",
    "\n",
    "# Use of lambda functions: \n",
    "> 1) One time use : They are used in places where we know that the function will be required just once. Therefore, lambda functions are also called as throw away functions.\n",
    "\n",
    "> 2) Input/ Output to other functions : They are also passed as inputs or returned as outputs of other higher-order functions.\n",
    "\n",
    "> Reduce code size : The body of lambda is written in single line.\n",
    "\n",
    "# lambda arguments: expression\n",
    "\n"
   ]
  },
  {
   "cell_type": "code",
   "execution_count": 23,
   "metadata": {},
   "outputs": [
    {
     "data": {
      "text/plain": [
       "9"
      ]
     },
     "execution_count": 23,
     "metadata": {},
     "output_type": "execute_result"
    }
   ],
   "source": [
    "# Without lambda\n",
    "def sqr(a):\n",
    "    return a*a\n",
    "\n",
    "sqr(3)"
   ]
  },
  {
   "cell_type": "code",
   "execution_count": 24,
   "metadata": {},
   "outputs": [
    {
     "data": {
      "text/plain": [
       "9"
      ]
     },
     "execution_count": 24,
     "metadata": {},
     "output_type": "execute_result"
    }
   ],
   "source": [
    "# with lambda\n",
    "x = lambda a: a*a\n",
    "\n",
    "x(3)\n"
   ]
  },
  {
   "cell_type": "code",
   "execution_count": 25,
   "metadata": {
    "scrolled": true
   },
   "outputs": [
    {
     "name": "stdout",
     "output_type": "stream",
     "text": [
      "9\n"
     ]
    }
   ],
   "source": [
    "# lmabda within user defined functions\n",
    "\n",
    "def abc(x):\n",
    "    return lambda y: x+y\n",
    "t = abc(5)\n",
    "print(t(4))"
   ]
  },
  {
   "cell_type": "code",
   "execution_count": null,
   "metadata": {},
   "outputs": [],
   "source": []
  },
  {
   "cell_type": "code",
   "execution_count": null,
   "metadata": {},
   "outputs": [],
   "source": []
  },
  {
   "cell_type": "code",
   "execution_count": 2,
   "metadata": {},
   "outputs": [],
   "source": []
  },
  {
   "cell_type": "code",
   "execution_count": null,
   "metadata": {},
   "outputs": [],
   "source": []
  }
 ],
 "metadata": {
  "kernelspec": {
   "display_name": "Python 3",
   "language": "python",
   "name": "python3"
  },
  "language_info": {
   "codemirror_mode": {
    "name": "ipython",
    "version": 3
   },
   "file_extension": ".py",
   "mimetype": "text/x-python",
   "name": "python",
   "nbconvert_exporter": "python",
   "pygments_lexer": "ipython3",
   "version": "3.7.6"
  }
 },
 "nbformat": 4,
 "nbformat_minor": 4
}
